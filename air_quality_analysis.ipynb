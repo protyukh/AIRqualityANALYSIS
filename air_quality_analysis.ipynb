{
 "cells": [
  {
   "cell_type": "markdown",
   "id": "f60d12d9",
   "metadata": {},
   "source": [
    "# Air Quality Data Analysis\n",
    "\n",
    "This notebook analyzes global air quality index (AQI) data using Pandas, NumPy, and Matplotlib."
   ]
  },
  {
   "cell_type": "code",
   "execution_count": 1,
   "id": "cdb91eaa",
   "metadata": {},
   "outputs": [],
   "source": [
    "import pandas as pd\n",
    "import numpy as np\n",
    "import matplotlib.pyplot as plt"
   ]
  },
  {
   "cell_type": "code",
   "execution_count": 2,
   "id": "b303bcc8",
   "metadata": {},
   "outputs": [
    {
     "data": {
      "text/html": [
       "<div>\n",
       "<style scoped>\n",
       "    .dataframe tbody tr th:only-of-type {\n",
       "        vertical-align: middle;\n",
       "    }\n",
       "\n",
       "    .dataframe tbody tr th {\n",
       "        vertical-align: top;\n",
       "    }\n",
       "\n",
       "    .dataframe thead th {\n",
       "        text-align: right;\n",
       "    }\n",
       "</style>\n",
       "<table border=\"1\" class=\"dataframe\">\n",
       "  <thead>\n",
       "    <tr style=\"text-align: right;\">\n",
       "      <th></th>\n",
       "      <th>Date</th>\n",
       "      <th>Country</th>\n",
       "      <th>Status</th>\n",
       "      <th>AQI Value</th>\n",
       "    </tr>\n",
       "  </thead>\n",
       "  <tbody>\n",
       "    <tr>\n",
       "      <th>0</th>\n",
       "      <td>2022-07-21</td>\n",
       "      <td>Albania</td>\n",
       "      <td>Good</td>\n",
       "      <td>14</td>\n",
       "    </tr>\n",
       "    <tr>\n",
       "      <th>1</th>\n",
       "      <td>2022-07-21</td>\n",
       "      <td>Algeria</td>\n",
       "      <td>Moderate</td>\n",
       "      <td>65</td>\n",
       "    </tr>\n",
       "    <tr>\n",
       "      <th>2</th>\n",
       "      <td>2022-07-21</td>\n",
       "      <td>Andorra</td>\n",
       "      <td>Moderate</td>\n",
       "      <td>55</td>\n",
       "    </tr>\n",
       "    <tr>\n",
       "      <th>3</th>\n",
       "      <td>2022-07-21</td>\n",
       "      <td>Angola</td>\n",
       "      <td>Unhealthy for Sensitive Groups</td>\n",
       "      <td>113</td>\n",
       "    </tr>\n",
       "    <tr>\n",
       "      <th>4</th>\n",
       "      <td>2022-07-21</td>\n",
       "      <td>Argentina</td>\n",
       "      <td>Moderate</td>\n",
       "      <td>63</td>\n",
       "    </tr>\n",
       "  </tbody>\n",
       "</table>\n",
       "</div>"
      ],
      "text/plain": [
       "         Date    Country                          Status  AQI Value\n",
       "0  2022-07-21    Albania                            Good         14\n",
       "1  2022-07-21    Algeria                        Moderate         65\n",
       "2  2022-07-21    Andorra                        Moderate         55\n",
       "3  2022-07-21     Angola  Unhealthy for Sensitive Groups        113\n",
       "4  2022-07-21  Argentina                        Moderate         63"
      ]
     },
     "execution_count": 2,
     "metadata": {},
     "output_type": "execute_result"
    }
   ],
   "source": [
    "# Load the CSV file\n",
    "df = pd.read_csv('data_date.csv')\n",
    "df.head()"
   ]
  },
  {
   "cell_type": "code",
   "execution_count": 3,
   "id": "cff00eee",
   "metadata": {},
   "outputs": [],
   "source": [
    "# Convert 'Date' column to datetime\n",
    "df['Date'] = pd.to_datetime(df['Date'])"
   ]
  },
  {
   "cell_type": "code",
   "execution_count": 4,
   "id": "e6826cdf",
   "metadata": {},
   "outputs": [
    {
     "name": "stdout",
     "output_type": "stream",
     "text": [
      "<class 'pandas.core.frame.DataFrame'>\n",
      "RangeIndex: 19189 entries, 0 to 19188\n",
      "Data columns (total 4 columns):\n",
      " #   Column     Non-Null Count  Dtype         \n",
      "---  ------     --------------  -----         \n",
      " 0   Date       19189 non-null  datetime64[ns]\n",
      " 1   Country    19189 non-null  object        \n",
      " 2   Status     19189 non-null  object        \n",
      " 3   AQI Value  19189 non-null  int64         \n",
      "dtypes: datetime64[ns](1), int64(1), object(2)\n",
      "memory usage: 599.8+ KB\n"
     ]
    }
   ],
   "source": [
    "# Dataset information\n",
    "df.info()"
   ]
  },
  {
   "cell_type": "code",
   "execution_count": 5,
   "id": "dd3e9adf",
   "metadata": {},
   "outputs": [
    {
     "data": {
      "text/plain": [
       "count    19189.000000\n",
       "mean        63.611653\n",
       "std         50.525151\n",
       "min          1.000000\n",
       "25%         29.000000\n",
       "50%         53.000000\n",
       "75%         83.000000\n",
       "max        963.000000\n",
       "Name: AQI Value, dtype: float64"
      ]
     },
     "execution_count": 5,
     "metadata": {},
     "output_type": "execute_result"
    }
   ],
   "source": [
    "# AQI Summary statistics\n",
    "df['AQI Value'].describe()"
   ]
  },
  {
   "cell_type": "code",
   "execution_count": 6,
   "id": "94504841",
   "metadata": {},
   "outputs": [
    {
     "data": {
      "text/plain": [
       "Country\n",
       "India         220.493056\n",
       "China         178.013889\n",
       "Qatar         156.404255\n",
       "Iraq          155.134921\n",
       "Iran          151.447552\n",
       "Bangladesh    150.770370\n",
       "Uganda        132.052239\n",
       "Ethiopia      131.843284\n",
       "Bahrain       126.553719\n",
       "Gabon         124.055556\n",
       "Name: AQI Value, dtype: float64"
      ]
     },
     "execution_count": 6,
     "metadata": {},
     "output_type": "execute_result"
    }
   ],
   "source": [
    "# Top 10 most polluted countries by average AQI\n",
    "top_polluted = df.groupby('Country')['AQI Value'].mean().sort_values(ascending=False).head(10)\n",
    "top_polluted"
   ]
  },
  {
   "cell_type": "code",
   "execution_count": 7,
   "id": "11cd5bb4",
   "metadata": {},
   "outputs": [
    {
     "data": {
      "image/png": "[encoded data removed]",
      "text/plain": [
       "<Figure size 1000x600 with 1 Axes>"
      ]
     },
     "metadata": {},
     "output_type": "display_data"
    }
   ],
   "source": [
    "# AQI Distribution Plot\n",
    "plt.figure(figsize=(10, 6))\n",
    "plt.hist(df['AQI Value'], bins=30, color='skyblue', edgecolor='black')\n",
    "plt.title('Distribution of AQI Values')\n",
    "plt.xlabel('AQI Value')\n",
    "plt.ylabel('Frequency')\n",
    "plt.grid(True)\n",
    "plt.tight_layout()\n",
    "plt.savefig('aqi_distribution.png')\n",
    "plt.show()"
   ]
  }
 ],
 "metadata": {
  "kernelspec": {
   "display_name": "Python 3 (ipykernel)",
   "language": "python",
   "name": "python3"
  },
  "language_info": {
   "codemirror_mode": {
    "name": "ipython",
    "version": 3
   },
   "file_extension": ".py",
   "mimetype": "text/x-python",
   "name": "python",
   "nbconvert_exporter": "python",
   "pygments_lexer": "ipython3",
   "version": "3.10.7"
  }
 },
 "nbformat": 4,
 "nbformat_minor": 5
}
